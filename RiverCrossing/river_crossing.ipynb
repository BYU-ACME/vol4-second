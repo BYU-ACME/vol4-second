{
 "cells": [
  {
   "cell_type": "markdown",
   "metadata": {},
   "source": [
    "# Volume 4: River Crossing\n",
    "    <Name>\n",
    "    <Class>\n",
    "    <Date>"
   ]
  },
  {
   "cell_type": "code",
   "execution_count": null,
   "metadata": {},
   "outputs": [],
   "source": [
    "import numpy as np\n",
    "from matplotlib import pyplot as plt\n",
    "from scipy.interpolate import barycentric_interpolate\n",
    "from scipy.optimize import root"
   ]
  },
  {
   "cell_type": "markdown",
   "metadata": {},
   "source": [
    "# Problem 1\n",
    "Assume that the current is given by $c(x) = −\n",
    "\\frac{7}{10} (x^2 − 1)$. (This function assumes, for example, that the current is faster near the center of the river.) Write a Python\n",
    "function that accepts as arguments a function $y$, its derivative $y'$, and an $x$-value, and returns $L(x, y(x), y'(x))$ (where $T[y]=\\int^1_{-1} L(x,y(x),y'(x))dx$). Write a second function that accepts as arguments a function $y$, its derivative $y'$, and uses the first function to numerically compute and return $T[y]$ for a given path."
   ]
  },
  {
   "cell_type": "code",
   "execution_count": null,
   "metadata": {},
   "outputs": [],
   "source": []
  },
  {
   "cell_type": "markdown",
   "metadata": {},
   "source": [
    "# Problem 2\n",
    "\n",
    "Let $y(x)$ be the straight-line path between $A = (−1, 0)$ and $B = (1, 5)$. Numerically calculate $T[y]$ to get an upper bound on the minimum time required to cross from $A$ to\n",
    "$B$. Using Eqn. 2, find a lower bound on the minimum time required to cross.\n",
    "\n",
    "Hint: If $G=\\int f(x)dx$ and we want to minimize $G$, try minimizing $f(x)$."
   ]
  },
  {
   "cell_type": "code",
   "execution_count": null,
   "metadata": {},
   "outputs": [],
   "source": []
  },
  {
   "cell_type": "markdown",
   "metadata": {},
   "source": [
    "# Problem 3\n",
    "\n",
    "Numerically solve the Euler-Lagrange equation Eqn. 3, using \n",
    "$c(x) = −\\frac{7}{10} (x^2 − 1)$ and $α = (1 − c^{2}(x))^{−1/2}$, and $y(−1) = 0$, $y(1) = 5.$\n",
    "\n",
    "Hint: Since this boundary value problem is defined over the doimain $[−1, 1]$, it is easy to\n",
    "solve using the pseudospectral method. Begin by replacing each $\\frac{d}{dx}$ with the pseudospectral\n",
    "differentiation matrix $D$. Then impose the boundary conditions and solve."
   ]
  },
  {
   "cell_type": "code",
   "execution_count": null,
   "metadata": {},
   "outputs": [],
   "source": []
  },
  {
   "cell_type": "markdown",
   "metadata": {},
   "source": [
    "# Problem 4\n",
    "\n",
    "Plot the angle at which the boat should be pointed at each $x$-coordinate. \n",
    "\n",
    "Hint: use Eqn. 1 to solve for the angle $\\theta(x)$; see Figure 3. Note that the angle the boat should be steered is NOT described by the tangent vector to the trajectory."
   ]
  },
  {
   "cell_type": "code",
   "execution_count": null,
   "metadata": {},
   "outputs": [],
   "source": []
  }
 ],
 "metadata": {
  "kernelspec": {
   "display_name": "Python 3",
   "language": "python",
   "name": "python3"
  },
  "language_info": {
   "codemirror_mode": {
    "name": "ipython",
    "version": 3
   },
   "file_extension": ".py",
   "mimetype": "text/x-python",
   "name": "python",
   "nbconvert_exporter": "python",
   "pygments_lexer": "ipython3",
   "version": "3.7.3"
  }
 },
 "nbformat": 4,
 "nbformat_minor": 4
}
