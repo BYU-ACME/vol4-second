{
 "cells": [
  {
   "cell_type": "markdown",
   "id": "8a41bcbb-1e0d-48a9-b539-bb4b5fdddf56",
   "metadata": {},
   "source": [
    "# Volume 4: Linear Quadratic Gaussian Control\n",
    "    <Name>\n",
    "    <Class>\n",
    "    <Date>"
   ]
  },
  {
   "cell_type": "code",
   "execution_count": null,
   "id": "8994d5b0-817d-430c-9b31-4be646bfd230",
   "metadata": {},
   "outputs": [],
   "source": [
    "import numpy as np\n",
    "from jax import numpy as jnp\n",
    "from scipy.linalg import inv\n",
    "from matplotlib import pyplot as plt\n",
    "\n",
    "from utils import Simulator, Estimator, Controller\n",
    "from animate import animate2d"
   ]
  },
  {
   "cell_type": "markdown",
   "id": "86de3024",
   "metadata": {},
   "source": [
    "# Plotting Helper Function"
   ]
  },
  {
   "cell_type": "code",
   "execution_count": null,
   "id": "46d7bbb4",
   "metadata": {},
   "outputs": [],
   "source": [
    "def plot(\n",
    "    T: float,\n",
    "    N: int,\n",
    "    xs: np.ndarray,\n",
    "    us: np.ndarray,\n",
    "    ests: np.ndarray | None = None,\n",
    "):\n",
    "    \"\"\"Plot position, velocity, and controls in x, y, and z.\n",
    "\n",
    "    Parameters\n",
    "    ----------\n",
    "        T\n",
    "            length of time\n",
    "        N\n",
    "            number of steps 0, ..., N\n",
    "        xs\n",
    "            sequence of states x_k = (sx, sy, sz, vx, vy, vz) for k in\n",
    "            (0, ..., N)\n",
    "            shape: (N+1, 3)\n",
    "        us\n",
    "            sequence of controls u_k = (ux, uy, uz) for k in (0, ..., N)\n",
    "            shape: (N, 3)\n",
    "        ests\n",
    "            sequence of state estimates \\hat x_k with same coordinates and shape\n",
    "            as xs\n",
    "    Returns\n",
    "    -------\n",
    "        fig\n",
    "            the pyplot figure\n",
    "        axs\n",
    "            the array of pyplot axs\n",
    "    \"\"\"\n",
    "\n",
    "    fig, axs = plt.subplots(3, 3, figsize=(8, 6))\n",
    "    s = 0.1\n",
    "\n",
    "    tls = np.linspace(0, T, N + 1)\n",
    "\n",
    "    # Plot position and velocity.\n",
    "    [axs[0, i].plot(tls, xs[:, i], color=\"blue\") for i in range(3)]\n",
    "    [axs[1, i - 3].plot(tls, xs[:, i], color=\"orange\") for i in range(3, 6)]\n",
    "\n",
    "    var_list = [\"$x$\", \"$y$\", \"$z$\"]\n",
    "    [axs[0, i].set_title(var_list[i]) for i in range(3)]\n",
    "\n",
    "    word_list = [\"Position\", \"Velocity\", \"Control\"]\n",
    "    [axs[i, 0].set_ylabel(word_list[i]) for i in range(3)]\n",
    "\n",
    "    # Plot state estimates (if provided).\n",
    "    if ests is not None:\n",
    "        [\n",
    "            axs[0, i].scatter(tls, ests[:, i], color=\"blue\", s=s)\n",
    "            for i in range(3)\n",
    "        ]\n",
    "        [\n",
    "            axs[1, i - 3].scatter(tls, ests[:, i], color=\"orange\", s=s)\n",
    "            for i in range(3, 6)\n",
    "        ]\n",
    "\n",
    "    # Plot controls.\n",
    "    [axs[2, i].scatter(tls[:-1], us[:, i], color=\"red\", s=1) for i in range(3)]\n",
    "    [axs[2, i].set_xlabel(\"Time\") for i in range(3)]\n",
    "\n",
    "    [ax.axhline(0, color=\"black\", lw=1) for axrow in axs for ax in axrow]\n",
    "\n",
    "    fig.suptitle(\"Return of the Shuttle\")\n",
    "    fig.tight_layout()\n",
    "    axs[1, 0].get_yaxis().set_label_coords(-0.26, 0.5)\n",
    "    axs[0, 0].get_yaxis().set_label_coords(-0.26, 0.5)\n",
    "    axs[2, 0].get_yaxis().set_label_coords(-0.26, 0.5)\n",
    "\n",
    "    return fig, axs"
   ]
  },
  {
   "cell_type": "markdown",
   "id": "7c769dd2-dc58-465a-8b1f-d5b9d6d0fbef",
   "metadata": {},
   "source": [
    "# Problem 1"
   ]
  },
  {
   "cell_type": "code",
   "execution_count": null,
   "id": "0362f177-9d95-4db8-be91-294028032c5e",
   "metadata": {},
   "outputs": [],
   "source": [
    "class LQR:\n",
    "    \"\"\"\n",
    "    Given a transition system and cost matrices, compute an optimal trajectory,\n",
    "    an associated control, and an optimal control rule given state feedback.\n",
    "    \"\"\"\n",
    "\n",
    "    def __init__(self):\n",
    "        raise (NotImplementedError)\n",
    "\n",
    "    def fit(self):\n",
    "        \"\"\"\n",
    "        Computes and saves the gain matrices Ks\n",
    "        \"\"\"\n",
    "        raise (NotImplementedError)\n",
    "\n",
    "    def compute_control(self):\n",
    "        \"\"\"\n",
    "        Returns the optimal control uk\n",
    "\n",
    "        Parameters:\n",
    "            k (int) - The index of the state vector\n",
    "            x_k (ndarray) - The state at index k\n",
    "\n",
    "        Returns:\n",
    "            u_k (ndarray) - The optimal control at index k\n",
    "        \"\"\"\n",
    "        raise (NotImplementedError)"
   ]
  },
  {
   "cell_type": "markdown",
   "id": "465b3019-2d67-4d3e-8e39-9bef015b1340",
   "metadata": {},
   "source": [
    "# Problem 2"
   ]
  },
  {
   "cell_type": "code",
   "execution_count": null,
   "id": "cbddd471-ba89-41d4-9324-ac8f0588cdc3",
   "metadata": {},
   "outputs": [],
   "source": []
  },
  {
   "cell_type": "markdown",
   "id": "7b7fab45-3c24-46bf-bb0a-eff0122520c2",
   "metadata": {},
   "source": [
    "# Problem 3"
   ]
  },
  {
   "cell_type": "code",
   "execution_count": null,
   "id": "77ee7444-f2a5-4d14-acc6-1b4deb4f67b9",
   "metadata": {},
   "outputs": [],
   "source": []
  },
  {
   "cell_type": "markdown",
   "id": "09be1ea2-ae06-429d-8ae5-f3b66461f333",
   "metadata": {},
   "source": [
    "# Problem 4"
   ]
  },
  {
   "cell_type": "code",
   "execution_count": null,
   "id": "ba336226-54b6-4135-989f-83300eb85b86",
   "metadata": {},
   "outputs": [],
   "source": [
    "class KalmanFilter:\n",
    "    \"\"\"\n",
    "    Implementation of the Kalman Filter\n",
    "\n",
    "    Given observations and a model, estimates true states by blending the model\n",
    "    and observations according to approximated error\n",
    "    \"\"\"\n",
    "\n",
    "    def __init__(self):\n",
    "        raise (NotImplementedError)\n",
    "\n",
    "    def fit(self):\n",
    "        \"\"\"\n",
    "        Computes and saves the gain matrices Lks\n",
    "        \"\"\"\n",
    "        raise (NotImplementedError)\n",
    "\n",
    "    def predict_state(self):\n",
    "        \"\"\"\n",
    "        Returns the next predicted state\n",
    "\n",
    "        Parameters:\n",
    "            x_k (ndarray) - The last estimated state\n",
    "            u_k (ndarray) - The control at the given index\n",
    "\n",
    "        Returns:\n",
    "            x_k1|k (ndarray) - The next predicted state\n",
    "        \"\"\"\n",
    "        raise (NotImplementedError)\n",
    "\n",
    "    def update_state(self):\n",
    "        \"\"\"\n",
    "        Returns the next estimated state\n",
    "\n",
    "        Parameters:\n",
    "            k (int) - The index of the state\n",
    "            x_k1|k (ndarray) - The next predicted state\n",
    "            z_k1 (ndarray) - The observations at the given index\n",
    "\n",
    "        Returns:\n",
    "            x_k1 (ndarray) - The next estimated state\n",
    "        \"\"\"\n",
    "        raise (NotImplementedError)"
   ]
  },
  {
   "cell_type": "markdown",
   "id": "ff5e7f7d-93d8-4418-9a67-95a4fa8b8a42",
   "metadata": {},
   "source": [
    "# Problem 5"
   ]
  },
  {
   "cell_type": "code",
   "execution_count": null,
   "id": "d2876c47-0dfc-4568-8723-d8b3ec1a6ef1",
   "metadata": {},
   "outputs": [],
   "source": []
  }
 ],
 "metadata": {
  "kernelspec": {
   "display_name": "Python 3 (ipykernel)",
   "language": "python",
   "name": "python3"
  },
  "language_info": {
   "codemirror_mode": {
    "name": "ipython",
    "version": 3
   },
   "file_extension": ".py",
   "mimetype": "text/x-python",
   "name": "python",
   "nbconvert_exporter": "python",
   "pygments_lexer": "ipython3"
  }
 },
 "nbformat": 4,
 "nbformat_minor": 5
}
